{
 "cells": [
  {
   "cell_type": "code",
   "execution_count": 1,
   "id": "bfae7700-3e08-4e0c-a239-14d0b9e3515d",
   "metadata": {},
   "outputs": [],
   "source": [
    "from pathlib import Path\n",
    "import sys\n",
    "import os\n",
    "import shutil\n",
    "import random\n",
    "\n",
    "import geopandas as gpd\n",
    "import pandas as pd\n",
    "import matplotlib.pyplot as plt\n",
    "import numpy as np\n",
    "\n",
    "sys.path.insert(0, \"./preprocessing\")\n",
    "from preprocessing.isochrones import (\n",
    "    read_matrix_to_df,\n",
    "    merge_traveltimes_to_grid,\n",
    "    dissolve_grid_to_isochrones,\n",
    ")\n",
    "from preprocessing.config import (\n",
    "    TRAVEL_MODES,\n",
    "    BREAKPOINTS,\n",
    ")\n",
    "from preprocessing.minify_geodataframe import minify_geodataframe\n",
    "from preprocessing.minify_geojson import minify_files_in_dir"
   ]
  },
  {
   "cell_type": "code",
   "execution_count": 2,
   "id": "8b732f7a-9304-48f4-a12d-2a90f1a24c5e",
   "metadata": {},
   "outputs": [],
   "source": [
    "GRID_DIR = Path(\"./data/Helsinki_Travel_Time_Matrix_2023_grid.gpkg.zip\")\n",
    "TTM_DIR = Path(\"./data/Helsinki_Travel_Time_Matrix_2023\")\n",
    "TEST_DIR = Path(\"./data/test/\")\n",
    "\n",
    "SAMPLE_SIZE = 100  # How many grid cells to pick\n",
    "\n",
    "ttm_paths = list(TTM_DIR.rglob(\"*.csv\"))\n",
    "ttm_paths = random.sample(ttm_paths, SAMPLE_SIZE)\n",
    "\n",
    "grid = gpd.read_file(GRID_DIR)\n",
    "grid = grid[[\"id\", \"geometry\"]].to_crs(epsg=4326)\n",
    "\n",
    "\n",
    "def init_empty_dir(dir: Path):\n",
    "    if dir.exists() and dir.is_dir():\n",
    "        shutil.rmtree(dir)\n",
    "    dir.mkdir(parents=True, exist_ok=True) \n",
    "    return dir\n",
    "    #[print(path) for path in directory.iterdir()]\n",
    "\n",
    "\n",
    "def get_avg_file_size_per_cell(dir: Path, cell_count, humanized=False):\n",
    "    bytes = sum(i.stat().st_size for i in dir.iterdir() if i.is_file())\n",
    "    bytes_per_cell = bytes / SAMPLE_SIZE\n",
    "    print(bytes_per_cell)\n",
    "    if humanized:\n",
    "        for unit in (\"\", \"K\", \"M\", \"G\", \"T\", \"P\", \"E\", \"Z\"):\n",
    "            if abs(bytes_per_cell) < 1000:\n",
    "                return f\"{bytes_per_cell:3.1f} {unit}B\"\n",
    "            bytes_per_cell /= 1000\n",
    "    return bytes_per_cell\n",
    "\n",
    "def plot_isochrones(isochrones, grid):\n",
    "    fig, ax = plt.subplots(figsize=(10, 6))\n",
    "\n",
    "    grid.dissolve().plot(ax=ax, color=\"lightgray\")\n",
    "    isochrones.plot(\n",
    "        ax=ax,\n",
    "        column=\"t\",\n",
    "        legend=True,\n",
    "        categorical=True,\n",
    "        cmap=\"cividis_r\",\n",
    "    )"
   ]
  },
  {
   "cell_type": "code",
   "execution_count": 3,
   "id": "cfe77b83-b6b7-41db-ad78-0605070ab7c3",
   "metadata": {},
   "outputs": [
    {
     "name": "stdout",
     "output_type": "stream",
     "text": [
      "1838587.73\n",
      "1.8 MB\n"
     ]
    }
   ],
   "source": [
    "write_dir = init_empty_dir(TEST_DIR)\n",
    "\n",
    "for i, path in enumerate(ttm_paths):\n",
    "    traveltimes = read_matrix_to_df(\n",
    "        path,\n",
    "        filetype=\"csv\"\n",
    "    )\n",
    "    for mode in TRAVEL_MODES:\n",
    "        traveltimes[[mode]].to_csv(Path(write_dir / f\"{i}_{mode}.csv\"))\n",
    "\n",
    "print(get_avg_file_size_per_cell(write_dir, cell_count=SAMPLE_SIZE, humanized=True))"
   ]
  },
  {
   "cell_type": "code",
   "execution_count": 4,
   "id": "237c6c0e-cbf4-4159-a29e-c2e48d5ca942",
   "metadata": {},
   "outputs": [],
   "source": [
    "# This cell writes the traveltimes joined to yrk grid as is, without any simplification\n",
    "# It is there just to see the worst-case scenario\n",
    "\n",
    "i_have_time = False\n",
    "\n",
    "if i_have_time:\n",
    "    write_dir = init_empty_dir(TEST_DIR)\n",
    "    \n",
    "    for i, path in enumerate(ttm_paths):\n",
    "        traveltimes = read_matrix_to_df(\n",
    "            path,\n",
    "            filetype=\"csv\"\n",
    "        )\n",
    "        for mode in TRAVEL_MODES:\n",
    "            tt_grid = merge_traveltimes_to_grid(\n",
    "                grid,\n",
    "                traveltimes,\n",
    "                mode,\n",
    "            )\n",
    "            tt_grid.to_file(Path(write_dir / f\"{i}_{mode}.geojson\"))\n",
    "    \n",
    "    print(get_avg_file_size_per_cell(write_dir, cell_count=SAMPLE_SIZE, humanized=True))"
   ]
  },
  {
   "cell_type": "code",
   "execution_count": 5,
   "id": "cfdaf3f3-4803-475d-b470-f6bb851c60f0",
   "metadata": {},
   "outputs": [
    {
     "name": "stdout",
     "output_type": "stream",
     "text": [
      "1617448.01\n",
      "1.6 MB\n"
     ]
    }
   ],
   "source": [
    "write_dir = init_empty_dir(TEST_DIR)\n",
    "\n",
    "for i, path in enumerate(ttm_paths):\n",
    "    traveltimes = read_matrix_to_df(\n",
    "        path,\n",
    "        filetype=\"csv\"\n",
    "    )\n",
    "    for mode in TRAVEL_MODES:\n",
    "        tt_grid = merge_traveltimes_to_grid(\n",
    "            grid,\n",
    "            traveltimes,\n",
    "            mode,\n",
    "        )\n",
    "        tt_isochrones = dissolve_grid_to_isochrones(\n",
    "            tt_grid,\n",
    "            breakpoints=BREAKPOINTS,\n",
    "            mode=mode,\n",
    "        )\n",
    "        tt_isochrones.to_file(Path(write_dir / f\"{i}_{mode}.geojson\"))\n",
    "\n",
    "print(get_avg_file_size_per_cell(write_dir, cell_count=SAMPLE_SIZE, humanized=True))"
   ]
  },
  {
   "cell_type": "code",
   "execution_count": 6,
   "id": "35b3503b-ee88-428d-8015-0d0ad9a67f3a",
   "metadata": {},
   "outputs": [
    {
     "name": "stderr",
     "output_type": "stream",
     "text": [
      "/var/home/eemil/repos/travel-time-matrix-visualisation-preprocessing/.venv/lib/python3.11/site-packages/geopandas/geoseries.py:645: FutureWarning: the convert_dtype parameter is deprecated and will be removed in a future version.  Do ``ser.astype(object).apply()`` instead if you want ``convert_dtype=False``.\n",
      "  result = super().apply(func, convert_dtype=convert_dtype, args=args, **kwargs)\n"
     ]
    },
    {
     "name": "stdout",
     "output_type": "stream",
     "text": [
      "886922.19\n",
      "886.9 KB\n"
     ]
    }
   ],
   "source": [
    "write_dir = init_empty_dir(TEST_DIR)\n",
    "\n",
    "grid_minified = minify_geodataframe(grid, epsg=4326, coordinate_precision=5)\n",
    "\n",
    "for i, path in enumerate(ttm_paths):\n",
    "    traveltimes = read_matrix_to_df(\n",
    "        path,\n",
    "        filetype=\"csv\"\n",
    "    )\n",
    "    for mode in TRAVEL_MODES:\n",
    "        tt_grid = merge_traveltimes_to_grid(\n",
    "            grid_minified,\n",
    "            traveltimes,\n",
    "            mode,\n",
    "        )\n",
    "        tt_isochrones = dissolve_grid_to_isochrones(\n",
    "            tt_grid,\n",
    "            breakpoints=BREAKPOINTS,\n",
    "            mode=mode,\n",
    "        )\n",
    "        tt_isochrones.to_file(Path(write_dir / f\"{i}_{mode}.geojson\"))\n",
    "\n",
    "print(get_avg_file_size_per_cell(write_dir, cell_count=SAMPLE_SIZE, humanized=True))"
   ]
  },
  {
   "cell_type": "code",
   "execution_count": 7,
   "id": "443d2a8c-f4a5-4488-a3a4-4a87f973770b",
   "metadata": {},
   "outputs": [
    {
     "name": "stdout",
     "output_type": "stream",
     "text": [
      "733073.63\n",
      "733.1 KB\n"
     ]
    }
   ],
   "source": [
    "minify_files_in_dir(write_dir, logging=False)\n",
    "print(get_avg_file_size_per_cell(write_dir, cell_count=SAMPLE_SIZE, humanized=True))"
   ]
  },
  {
   "cell_type": "code",
   "execution_count": 8,
   "id": "37bc61a2-ab79-42c3-918f-f73a575ef485",
   "metadata": {},
   "outputs": [
    {
     "name": "stdout",
     "output_type": "stream",
     "text": [
      "197464.08\n",
      "197.5 KB\n"
     ]
    }
   ],
   "source": [
    "# This cell will fail on windows\n",
    "\n",
    "import subprocess\n",
    "\n",
    "subprocess.run(\n",
    "    [\"./compress\", \"data/test\"],  # Or if the compress script is not executable\n",
    "    stdout = subprocess.DEVNULL,\n",
    "    stderr = subprocess.DEVNULL\n",
    ")\n",
    "\n",
    "print(get_avg_file_size_per_cell(write_dir, cell_count=SAMPLE_SIZE, humanized=True))"
   ]
  },
  {
   "cell_type": "code",
   "execution_count": 9,
   "id": "7d2df649-8601-447e-8c66-2624c023e3a7",
   "metadata": {},
   "outputs": [
    {
     "name": "stderr",
     "output_type": "stream",
     "text": [
      "/var/home/eemil/repos/travel-time-matrix-visualisation-preprocessing/.venv/lib/python3.11/site-packages/geopandas/geoseries.py:645: FutureWarning: the convert_dtype parameter is deprecated and will be removed in a future version.  Do ``ser.astype(object).apply()`` instead if you want ``convert_dtype=False``.\n",
      "  result = super().apply(func, convert_dtype=convert_dtype, args=args, **kwargs)\n"
     ]
    },
    {
     "name": "stdout",
     "output_type": "stream",
     "text": [
      "826937499\n"
     ]
    }
   ],
   "source": [
    "def percentage(x, y):\n",
    "    return int(x / y * 100)\n",
    "\n",
    "grid_minified = minify_geodataframe(grid, epsg=3067, coordinate_precision=5)\n",
    "\n",
    "grid_area = int(grid_minified[\"geometry\"].area.sum())\n",
    "print(grid_area)\n",
    "\n",
    "mode_results = {mode: [] for mode in TRAVEL_MODES}\n",
    "\n",
    "total_isochrone_area = 0\n",
    "\n",
    "for i, path in enumerate(ttm_paths):\n",
    "    traveltimes = read_matrix_to_df(\n",
    "        path,\n",
    "        filetype=\"csv\"\n",
    "    )\n",
    "    for mode in TRAVEL_MODES:\n",
    "        tt_grid = merge_traveltimes_to_grid(\n",
    "            grid_minified,\n",
    "            traveltimes,\n",
    "            mode,\n",
    "        )\n",
    "        tt_isochrones = dissolve_grid_to_isochrones(\n",
    "            tt_grid,\n",
    "            breakpoints=BREAKPOINTS,\n",
    "            mode=mode,\n",
    "        )\n",
    "        area = int(tt_isochrones[\"geometry\"].area.sum())\n",
    "        mode_results[mode].append(area)\n",
    "        total_isochrone_area += area\n",
    "\n",
    "all_modes_avg = total_isochrone_area / (SAMPLE_SIZE * len(TRAVEL_MODES))\n",
    "all_modes_percentage = percentage(all_modes_avg, grid_area)\n",
    "\n",
    "mode_avgs = {mode: sum(results) / len(results) for mode, results in mode_results.items()}\n",
    "mode_avg_percentages = {mode: percentage(avg_area, grid_area) for mode, avg_area in mode_avgs.items()}\n",
    "\n",
    "#print(get_avg_file_size_per_cell(write_dir, cell_count=SAMPLE_SIZE, humanized=True))"
   ]
  },
  {
   "cell_type": "code",
   "execution_count": 10,
   "id": "c11c249e-ed3e-4ed8-a75b-b55c8d7a3db2",
   "metadata": {},
   "outputs": [
    {
     "data": {
      "text/plain": [
       "{'walk_avg': 3,\n",
       " 'walk_slo': 1,\n",
       " 'bike_fst': 34,\n",
       " 'bike_avg': 26,\n",
       " 'bike_slo': 17,\n",
       " 'car_r': 98,\n",
       " 'car_m': 98,\n",
       " 'car_n': 98,\n",
       " 'pt_r_walk_avg': 28,\n",
       " 'pt_m_walk_avg': 26,\n",
       " 'pt_n_walk_avg': 3}"
      ]
     },
     "execution_count": 10,
     "metadata": {},
     "output_type": "execute_result"
    }
   ],
   "source": [
    "mode_avg_percentages"
   ]
  },
  {
   "cell_type": "code",
   "execution_count": 11,
   "id": "59325709-b613-49c9-9b65-09d91f60aaac",
   "metadata": {},
   "outputs": [
    {
     "data": {
      "text/plain": [
       "39"
      ]
     },
     "execution_count": 11,
     "metadata": {},
     "output_type": "execute_result"
    }
   ],
   "source": [
    "all_modes_percentage"
   ]
  },
  {
   "cell_type": "code",
   "execution_count": 12,
   "id": "b212327a-3e9c-40b7-b7af-6969f4b274dc",
   "metadata": {},
   "outputs": [
    {
     "name": "stdout",
     "output_type": "stream",
     "text": [
      "bike_slo 5967223\n"
     ]
    },
    {
     "name": "stderr",
     "output_type": "stream",
     "text": [
      "/var/home/eemil/repos/travel-time-matrix-visualisation-preprocessing/.venv/lib/python3.11/site-packages/geopandas/plotting.py:732: FutureWarning: is_categorical_dtype is deprecated and will be removed in a future version. Use isinstance(dtype, CategoricalDtype) instead\n",
      "  if pd.api.types.is_categorical_dtype(values.dtype):\n"
     ]
    },
    {
     "data": {
      "image/png": "[encoded data removed]",
      "text/plain": [
       "<Figure size 1000x600 with 1 Axes>"
      ]
     },
     "metadata": {},
     "output_type": "display_data"
    }
   ],
   "source": [
    "# A cell you can spam to see randomly generated isochrones\n",
    "\n",
    "ykr_id = grid.sample().iloc[0][\"id\"]  # random ykr id\n",
    "mode = random.choice(TRAVEL_MODES)    # random mode\n",
    "breakpoints = [15, 30, 45, 60]\n",
    "\n",
    "print(mode, ykr_id)\n",
    "\n",
    "traveltimes = read_matrix_to_df(\n",
    "    Path(f\"./data/Helsinki_Travel_Time_Matrix_2023/Helsinki_Travel_Time_Matrix_2023_travel_times_to_{ykr_id}.csv\"),\n",
    "    filetype=\"csv\"\n",
    ")\n",
    "\n",
    "tt_grid = merge_traveltimes_to_grid(\n",
    "    grid,\n",
    "    traveltimes,\n",
    "    mode,\n",
    ")\n",
    "\n",
    "tt_isochrones = dissolve_grid_to_isochrones(\n",
    "    tt_grid,\n",
    "    breakpoints=breakpoints,\n",
    "    mode=mode,\n",
    ")\n",
    "\n",
    "plot_isochrones(tt_isochrones, grid)"
   ]
  },
  {
   "cell_type": "code",
   "execution_count": null,
   "id": "f837a89b-ef10-413d-8faa-3c6e0d50892e",
   "metadata": {},
   "outputs": [],
   "source": []
  }
 ],
 "metadata": {
  "kernelspec": {
   "display_name": "Python 3 (ipykernel)",
   "language": "python",
   "name": "python3"
  },
  "language_info": {
   "codemirror_mode": {
    "name": "ipython",
    "version": 3
   },
   "file_extension": ".py",
   "mimetype": "text/x-python",
   "name": "python",
   "nbconvert_exporter": "python",
   "pygments_lexer": "ipython3",
   "version": "3.11.6"
  }
 },
 "nbformat": 4,
 "nbformat_minor": 5
}
